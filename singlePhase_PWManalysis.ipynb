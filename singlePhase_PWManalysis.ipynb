{
 "cells": [
  {
   "cell_type": "markdown",
   "metadata": {},
   "source": [
    "# Description\n",
    "\n",
    "This notebook is an interactive visualization showing harmonic frequencies in various single-phase PWM techniques. To explore, press the run button above.\n",
    "\n",
    "# Things to explore and observe\n",
    "\n",
    "Try varying the PWM technique, amplitude modulation (ma) and frequency modulation (mf) and observe:\n",
    "\n",
    "1. DC component\n",
    "2. Amplitude of the fundamental component\n",
    "3. The location of harmonic frequencies and their amplitudes\n",
    "4. What is the lowest mf, which gives the desired fundamental amplitude\n",
    "5. What happens when mf=1\n"
   ]
  },
  {
   "cell_type": "code",
   "execution_count": null,
   "metadata": {},
   "outputs": [],
   "source": [
    "%matplotlib notebook\n",
    "%run singlePhase_PWManalysis.py"
   ]
  }
 ],
 "metadata": {
  "kernelspec": {
   "display_name": "Python 3.6",
   "language": "python",
   "name": "python_3.6"
  },
  "language_info": {
   "codemirror_mode": {
    "name": "ipython",
    "version": 3
   },
   "file_extension": ".py",
   "mimetype": "text/x-python",
   "name": "python",
   "nbconvert_exporter": "python",
   "pygments_lexer": "ipython3",
   "version": "3.6.5"
  }
 },
 "nbformat": 4,
 "nbformat_minor": 2
}
